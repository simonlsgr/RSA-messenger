{
 "cells": [
  {
   "cell_type": "code",
   "execution_count": 11,
   "metadata": {},
   "outputs": [
    {
     "ename": "TypeError",
     "evalue": "unsupported operand type(s) for pow(): 'str', 'int', 'int'",
     "output_type": "error",
     "traceback": [
      "\u001b[0;31m---------------------------------------------------------------------------\u001b[0m",
      "\u001b[0;31mTypeError\u001b[0m                                 Traceback (most recent call last)",
      "Cell \u001b[0;32mIn [11], line 47\u001b[0m\n\u001b[1;32m     45\u001b[0m \u001b[39mif\u001b[39;00m \u001b[39m__name__\u001b[39m \u001b[39m==\u001b[39m \u001b[39m\"\u001b[39m\u001b[39m__main__\u001b[39m\u001b[39m\"\u001b[39m:\n\u001b[1;32m     46\u001b[0m     message \u001b[39m=\u001b[39m \u001b[39m\"\u001b[39m\u001b[39mHello World\u001b[39m\u001b[39m\"\u001b[39m\n\u001b[0;32m---> 47\u001b[0m     rsa \u001b[39m=\u001b[39m RSA_decrypt(message, \u001b[39m\"\u001b[39;49m\u001b[39m197976336794958091455545653356033048666\u001b[39;49m\u001b[39m\"\u001b[39;49m)\n\u001b[1;32m     48\u001b[0m     private_key \u001b[39m=\u001b[39m rsa\u001b[39m.\u001b[39mget_private_key()\n\u001b[1;32m     49\u001b[0m     \u001b[39mprint\u001b[39m(private_key)\n",
      "Cell \u001b[0;32mIn [11], line 9\u001b[0m, in \u001b[0;36mRSA_decrypt.__init__\u001b[0;34m(self, encrypted_AES_key, encrypted_AES_message)\u001b[0m\n\u001b[1;32m      7\u001b[0m \u001b[39mself\u001b[39m\u001b[39m.\u001b[39mencrypted_AES_message \u001b[39m=\u001b[39m encrypted_AES_message\n\u001b[1;32m      8\u001b[0m \u001b[39mself\u001b[39m\u001b[39m.\u001b[39mprivate_key \u001b[39m=\u001b[39m \u001b[39mself\u001b[39m\u001b[39m.\u001b[39mget_private_key()\n\u001b[0;32m----> 9\u001b[0m \u001b[39mself\u001b[39m\u001b[39m.\u001b[39mencrypted_message \u001b[39m=\u001b[39m \u001b[39mself\u001b[39;49m\u001b[39m.\u001b[39;49mdecrypt_key()\n",
      "Cell \u001b[0;32mIn [11], line 22\u001b[0m, in \u001b[0;36mRSA_decrypt.decrypt_key\u001b[0;34m(self)\u001b[0m\n\u001b[1;32m     20\u001b[0m tmp_encrypted_message \u001b[39m=\u001b[39m []\n\u001b[1;32m     21\u001b[0m \u001b[39mfor\u001b[39;00m i \u001b[39min\u001b[39;00m \u001b[39mself\u001b[39m\u001b[39m.\u001b[39mencrypted_AES_key:\n\u001b[0;32m---> 22\u001b[0m     tmp_encrypted_message\u001b[39m.\u001b[39mappend(\u001b[39mpow\u001b[39;49m(i, \u001b[39mself\u001b[39;49m\u001b[39m.\u001b[39;49mprivate_key[\u001b[39m\"\u001b[39;49m\u001b[39mb\u001b[39;49m\u001b[39m\"\u001b[39;49m], \u001b[39mself\u001b[39;49m\u001b[39m.\u001b[39;49mprivate_key[\u001b[39m\"\u001b[39;49m\u001b[39mn\u001b[39;49m\u001b[39m\"\u001b[39;49m]))\n\u001b[1;32m     23\u001b[0m tmp_encrypted_message \u001b[39m=\u001b[39m \u001b[39m\"\u001b[39m\u001b[39m\"\u001b[39m\u001b[39m.\u001b[39mjoin(tmp_encrypted_message)\n\u001b[1;32m     24\u001b[0m \u001b[39mreturn\u001b[39;00m \u001b[39mself\u001b[39m\u001b[39m.\u001b[39mint_value_to_bytes(\u001b[39mint\u001b[39m(tmp_encrypted_message))\n",
      "\u001b[0;31mTypeError\u001b[0m: unsupported operand type(s) for pow(): 'str', 'int', 'int'"
     ]
    }
   ],
   "source": [
    "import json\n",
    "\n",
    "\n",
    "class RSA_decrypt():\n",
    "    def __init__(self, encrypted_AES_key, encrypted_AES_message):\n",
    "        self.encrypted_AES_key = encrypted_AES_key\n",
    "        self.encrypted_AES_message = encrypted_AES_message\n",
    "        self.private_key = self.get_private_key()\n",
    "        self.encrypted_message = self.decrypt_key()\n",
    "    \n",
    "    def get_private_key(self):\n",
    "        with open(\"tmp/private_key.json\", \"r\") as f:\n",
    "            private_key = json.load(f)\n",
    "        return private_key\n",
    "\n",
    "    def int_value_to_bytes(self, value):\n",
    "        return value.to_bytes((value.bit_length() + 7) // 8, 'big')\n",
    "\n",
    "    def decrypt_key(self):\n",
    "        tmp_encrypted_message = []\n",
    "        for i in self.encrypted_AES_key:\n",
    "            tmp_encrypted_message.append(pow(i, self.private_key[\"b\"], self.private_key[\"n\"]))\n",
    "        tmp_encrypted_message = \"\".join(tmp_encrypted_message)\n",
    "        return self.int_value_to_bytes(int(tmp_encrypted_message))\n",
    "        \n",
    "        \n",
    "\n",
    "    \n",
    "    \n",
    "\n",
    "\n",
    "\n",
    "\n",
    "class decrypt_message():\n",
    "    def __init__(self, key):\n",
    "        self.key = key\n",
    "        self.decrypted_message = \"\"\n",
    "    def get_message(self):\n",
    "        return \n",
    "    def decrypt(self):\n",
    "        return\n",
    "    def RSA(self):\n",
    "        return\n",
    "\n",
    "if __name__ == \"__main__\":\n",
    "    message = \"Hello World\"\n",
    "    rsa = RSA_decrypt(message, \"197976336794958091455545653356033048666\")\n",
    "    private_key = rsa.get_private_key()\n",
    "    print(private_key)"
   ]
  }
 ],
 "metadata": {
  "kernelspec": {
   "display_name": "Python 3.8.10 64-bit",
   "language": "python",
   "name": "python3"
  },
  "language_info": {
   "codemirror_mode": {
    "name": "ipython",
    "version": 3
   },
   "file_extension": ".py",
   "mimetype": "text/x-python",
   "name": "python",
   "nbconvert_exporter": "python",
   "pygments_lexer": "ipython3",
   "version": "3.8.10"
  },
  "orig_nbformat": 4,
  "vscode": {
   "interpreter": {
    "hash": "916dbcbb3f70747c44a77c7bcd40155683ae19c65e1c03b4aa3499c5328201f1"
   }
  }
 },
 "nbformat": 4,
 "nbformat_minor": 2
}
